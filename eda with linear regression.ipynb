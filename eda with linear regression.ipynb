{
 "cells": [
  {
   "cell_type": "code",
   "execution_count": 20,
   "id": "8c7214f7-03fa-48f7-85e9-4e196b320d14",
   "metadata": {},
   "outputs": [],
   "source": [
    "import pandas as pd \n",
    "import numpy as np \n",
    "import sklearn \n",
    "from sklearn import linear_model \n",
    "from sklearn.utils import shuffle \n",
    "import matplotlib.pyplot as plt \n",
    "import pickle\n",
    "from matplotlib import style "
   ]
  },
  {
   "cell_type": "code",
   "execution_count": 3,
   "id": "a8a08f78-26af-43c1-b09c-b11cf0531c43",
   "metadata": {},
   "outputs": [],
   "source": [
    "data = pd.read_csv(\"student-mat.csv\" , sep=\";\")"
   ]
  },
  {
   "cell_type": "code",
   "execution_count": 4,
   "id": "5c7ebac1-5bb1-4a06-b524-6794523d1ecc",
   "metadata": {},
   "outputs": [
    {
     "data": {
      "text/html": [
       "<div>\n",
       "<style scoped>\n",
       "    .dataframe tbody tr th:only-of-type {\n",
       "        vertical-align: middle;\n",
       "    }\n",
       "\n",
       "    .dataframe tbody tr th {\n",
       "        vertical-align: top;\n",
       "    }\n",
       "\n",
       "    .dataframe thead th {\n",
       "        text-align: right;\n",
       "    }\n",
       "</style>\n",
       "<table border=\"1\" class=\"dataframe\">\n",
       "  <thead>\n",
       "    <tr style=\"text-align: right;\">\n",
       "      <th></th>\n",
       "      <th>school</th>\n",
       "      <th>sex</th>\n",
       "      <th>age</th>\n",
       "      <th>address</th>\n",
       "      <th>famsize</th>\n",
       "      <th>Pstatus</th>\n",
       "      <th>Medu</th>\n",
       "      <th>Fedu</th>\n",
       "      <th>Mjob</th>\n",
       "      <th>Fjob</th>\n",
       "      <th>...</th>\n",
       "      <th>famrel</th>\n",
       "      <th>freetime</th>\n",
       "      <th>goout</th>\n",
       "      <th>Dalc</th>\n",
       "      <th>Walc</th>\n",
       "      <th>health</th>\n",
       "      <th>absences</th>\n",
       "      <th>G1</th>\n",
       "      <th>G2</th>\n",
       "      <th>G3</th>\n",
       "    </tr>\n",
       "  </thead>\n",
       "  <tbody>\n",
       "    <tr>\n",
       "      <th>0</th>\n",
       "      <td>GP</td>\n",
       "      <td>F</td>\n",
       "      <td>18</td>\n",
       "      <td>U</td>\n",
       "      <td>GT3</td>\n",
       "      <td>A</td>\n",
       "      <td>4</td>\n",
       "      <td>4</td>\n",
       "      <td>at_home</td>\n",
       "      <td>teacher</td>\n",
       "      <td>...</td>\n",
       "      <td>4</td>\n",
       "      <td>3</td>\n",
       "      <td>4</td>\n",
       "      <td>1</td>\n",
       "      <td>1</td>\n",
       "      <td>3</td>\n",
       "      <td>6</td>\n",
       "      <td>5</td>\n",
       "      <td>6</td>\n",
       "      <td>6</td>\n",
       "    </tr>\n",
       "    <tr>\n",
       "      <th>1</th>\n",
       "      <td>GP</td>\n",
       "      <td>F</td>\n",
       "      <td>17</td>\n",
       "      <td>U</td>\n",
       "      <td>GT3</td>\n",
       "      <td>T</td>\n",
       "      <td>1</td>\n",
       "      <td>1</td>\n",
       "      <td>at_home</td>\n",
       "      <td>other</td>\n",
       "      <td>...</td>\n",
       "      <td>5</td>\n",
       "      <td>3</td>\n",
       "      <td>3</td>\n",
       "      <td>1</td>\n",
       "      <td>1</td>\n",
       "      <td>3</td>\n",
       "      <td>4</td>\n",
       "      <td>5</td>\n",
       "      <td>5</td>\n",
       "      <td>6</td>\n",
       "    </tr>\n",
       "    <tr>\n",
       "      <th>2</th>\n",
       "      <td>GP</td>\n",
       "      <td>F</td>\n",
       "      <td>15</td>\n",
       "      <td>U</td>\n",
       "      <td>LE3</td>\n",
       "      <td>T</td>\n",
       "      <td>1</td>\n",
       "      <td>1</td>\n",
       "      <td>at_home</td>\n",
       "      <td>other</td>\n",
       "      <td>...</td>\n",
       "      <td>4</td>\n",
       "      <td>3</td>\n",
       "      <td>2</td>\n",
       "      <td>2</td>\n",
       "      <td>3</td>\n",
       "      <td>3</td>\n",
       "      <td>10</td>\n",
       "      <td>7</td>\n",
       "      <td>8</td>\n",
       "      <td>10</td>\n",
       "    </tr>\n",
       "    <tr>\n",
       "      <th>3</th>\n",
       "      <td>GP</td>\n",
       "      <td>F</td>\n",
       "      <td>15</td>\n",
       "      <td>U</td>\n",
       "      <td>GT3</td>\n",
       "      <td>T</td>\n",
       "      <td>4</td>\n",
       "      <td>2</td>\n",
       "      <td>health</td>\n",
       "      <td>services</td>\n",
       "      <td>...</td>\n",
       "      <td>3</td>\n",
       "      <td>2</td>\n",
       "      <td>2</td>\n",
       "      <td>1</td>\n",
       "      <td>1</td>\n",
       "      <td>5</td>\n",
       "      <td>2</td>\n",
       "      <td>15</td>\n",
       "      <td>14</td>\n",
       "      <td>15</td>\n",
       "    </tr>\n",
       "    <tr>\n",
       "      <th>4</th>\n",
       "      <td>GP</td>\n",
       "      <td>F</td>\n",
       "      <td>16</td>\n",
       "      <td>U</td>\n",
       "      <td>GT3</td>\n",
       "      <td>T</td>\n",
       "      <td>3</td>\n",
       "      <td>3</td>\n",
       "      <td>other</td>\n",
       "      <td>other</td>\n",
       "      <td>...</td>\n",
       "      <td>4</td>\n",
       "      <td>3</td>\n",
       "      <td>2</td>\n",
       "      <td>1</td>\n",
       "      <td>2</td>\n",
       "      <td>5</td>\n",
       "      <td>4</td>\n",
       "      <td>6</td>\n",
       "      <td>10</td>\n",
       "      <td>10</td>\n",
       "    </tr>\n",
       "  </tbody>\n",
       "</table>\n",
       "<p>5 rows × 33 columns</p>\n",
       "</div>"
      ],
      "text/plain": [
       "  school sex  age address famsize Pstatus  Medu  Fedu     Mjob      Fjob  ...  \\\n",
       "0     GP   F   18       U     GT3       A     4     4  at_home   teacher  ...   \n",
       "1     GP   F   17       U     GT3       T     1     1  at_home     other  ...   \n",
       "2     GP   F   15       U     LE3       T     1     1  at_home     other  ...   \n",
       "3     GP   F   15       U     GT3       T     4     2   health  services  ...   \n",
       "4     GP   F   16       U     GT3       T     3     3    other     other  ...   \n",
       "\n",
       "  famrel freetime  goout  Dalc  Walc health absences  G1  G2  G3  \n",
       "0      4        3      4     1     1      3        6   5   6   6  \n",
       "1      5        3      3     1     1      3        4   5   5   6  \n",
       "2      4        3      2     2     3      3       10   7   8  10  \n",
       "3      3        2      2     1     1      5        2  15  14  15  \n",
       "4      4        3      2     1     2      5        4   6  10  10  \n",
       "\n",
       "[5 rows x 33 columns]"
      ]
     },
     "execution_count": 4,
     "metadata": {},
     "output_type": "execute_result"
    }
   ],
   "source": [
    "data.head()"
   ]
  },
  {
   "cell_type": "code",
   "execution_count": null,
   "id": "752178a0-2835-40ba-bf0e-dfe55576500b",
   "metadata": {},
   "outputs": [],
   "source": []
  },
  {
   "cell_type": "markdown",
   "id": "5eddef4d-6a1d-444a-9a2d-88f861352e15",
   "metadata": {},
   "source": [
    "### Student performance data "
   ]
  },
  {
   "cell_type": "code",
   "execution_count": 5,
   "id": "084ac3aa-a4dc-4103-874c-0fbd114997b1",
   "metadata": {},
   "outputs": [],
   "source": [
    "data = data[['G1' , 'G2' , \"G3\" , \"studytime\" , 'failures' , 'absences']]"
   ]
  },
  {
   "cell_type": "code",
   "execution_count": 6,
   "id": "8ff55b6d-6dbc-4a3c-b1fd-876ed8a6e098",
   "metadata": {},
   "outputs": [
    {
     "data": {
      "text/html": [
       "<div>\n",
       "<style scoped>\n",
       "    .dataframe tbody tr th:only-of-type {\n",
       "        vertical-align: middle;\n",
       "    }\n",
       "\n",
       "    .dataframe tbody tr th {\n",
       "        vertical-align: top;\n",
       "    }\n",
       "\n",
       "    .dataframe thead th {\n",
       "        text-align: right;\n",
       "    }\n",
       "</style>\n",
       "<table border=\"1\" class=\"dataframe\">\n",
       "  <thead>\n",
       "    <tr style=\"text-align: right;\">\n",
       "      <th></th>\n",
       "      <th>G1</th>\n",
       "      <th>G2</th>\n",
       "      <th>G3</th>\n",
       "      <th>studytime</th>\n",
       "      <th>failures</th>\n",
       "      <th>absences</th>\n",
       "    </tr>\n",
       "  </thead>\n",
       "  <tbody>\n",
       "    <tr>\n",
       "      <th>0</th>\n",
       "      <td>5</td>\n",
       "      <td>6</td>\n",
       "      <td>6</td>\n",
       "      <td>2</td>\n",
       "      <td>0</td>\n",
       "      <td>6</td>\n",
       "    </tr>\n",
       "    <tr>\n",
       "      <th>1</th>\n",
       "      <td>5</td>\n",
       "      <td>5</td>\n",
       "      <td>6</td>\n",
       "      <td>2</td>\n",
       "      <td>0</td>\n",
       "      <td>4</td>\n",
       "    </tr>\n",
       "    <tr>\n",
       "      <th>2</th>\n",
       "      <td>7</td>\n",
       "      <td>8</td>\n",
       "      <td>10</td>\n",
       "      <td>2</td>\n",
       "      <td>3</td>\n",
       "      <td>10</td>\n",
       "    </tr>\n",
       "    <tr>\n",
       "      <th>3</th>\n",
       "      <td>15</td>\n",
       "      <td>14</td>\n",
       "      <td>15</td>\n",
       "      <td>3</td>\n",
       "      <td>0</td>\n",
       "      <td>2</td>\n",
       "    </tr>\n",
       "    <tr>\n",
       "      <th>4</th>\n",
       "      <td>6</td>\n",
       "      <td>10</td>\n",
       "      <td>10</td>\n",
       "      <td>2</td>\n",
       "      <td>0</td>\n",
       "      <td>4</td>\n",
       "    </tr>\n",
       "  </tbody>\n",
       "</table>\n",
       "</div>"
      ],
      "text/plain": [
       "   G1  G2  G3  studytime  failures  absences\n",
       "0   5   6   6          2         0         6\n",
       "1   5   5   6          2         0         4\n",
       "2   7   8  10          2         3        10\n",
       "3  15  14  15          3         0         2\n",
       "4   6  10  10          2         0         4"
      ]
     },
     "execution_count": 6,
     "metadata": {},
     "output_type": "execute_result"
    }
   ],
   "source": [
    "data.head()"
   ]
  },
  {
   "cell_type": "markdown",
   "id": "3c185ab8-f1bb-40fe-af25-1c4fcf95af97",
   "metadata": {},
   "source": [
    "### perdict G3"
   ]
  },
  {
   "cell_type": "code",
   "execution_count": 29,
   "id": "d23b6dbf-f0ac-4102-8e9f-ab2ea705824f",
   "metadata": {},
   "outputs": [],
   "source": [
    "predict = 'G3'\n",
    "x = np.array(data.drop([predict], axis=1))\n",
    "y = np.array(data[predict])"
   ]
  },
  {
   "cell_type": "code",
   "execution_count": 30,
   "id": "3e205726-bebc-4140-9513-b81aa0c12b9e",
   "metadata": {},
   "outputs": [],
   "source": [
    "from sklearn.model_selection import train_test_split\n",
    "best =0\n",
    "for _ in range(30):\n",
    "    x_train , x_test , y_train , y_test = train_test_split(x , y , test_size = 0.1)\n",
    "\n"
   ]
  },
  {
   "cell_type": "code",
   "execution_count": 31,
   "id": "8bebbeac-9a31-42d1-856e-07c9d264c9ed",
   "metadata": {},
   "outputs": [
    {
     "name": "stdout",
     "output_type": "stream",
     "text": [
      "0.9237824520673643\n"
     ]
    }
   ],
   "source": [
    "from sklearn.linear_model import LinearRegression \n",
    "model = LinearRegression()\n",
    "model.fit(x_train , y_train)\n",
    "acc = model.score(x_test , y_test)\n",
    "print(acc)"
   ]
  },
  {
   "cell_type": "code",
   "execution_count": 10,
   "id": "cb9fe5a5-741f-479b-988f-fed8f5b7ee11",
   "metadata": {},
   "outputs": [
    {
     "name": "stdout",
     "output_type": "stream",
     "text": [
      "Coefficient: [ 0.15523058  0.96696042 -0.24756146 -0.42056438  0.04019417]\n",
      "Intercept: -1.259862611972565\n"
     ]
    }
   ],
   "source": [
    "print('Coefficient:', model.coef_)\n",
    "print('Intercept:', model.intercept_)"
   ]
  },
  {
   "cell_type": "markdown",
   "id": "ffffcdd6-8e46-4645-b6fa-161b71fc86df",
   "metadata": {},
   "source": [
    "### These values show the influence of each feature on the final grade G3. A positive coefficient means an increase in the feature value will increase G3, while a negative coefficient means it will decrease G3\n",
    "### In the context of linear regression, the intercept is the value where the regression line crosses the y-axis. It represents the predicted value of the dependent variable (y) when all the independent variables (x) are zero."
   ]
  },
  {
   "cell_type": "code",
   "execution_count": 33,
   "id": "a46c54be-e967-4a1e-a799-3b9225194c04",
   "metadata": {},
   "outputs": [
    {
     "name": "stdout",
     "output_type": "stream",
     "text": [
      "13.440002987053049 [14 13  1  0  6] 13\n",
      "12.881623911384642 [13 13  3  0  7] 14\n",
      "13.828562593061255 [13 14  2  0  0] 15\n",
      "6.066501796498604 [7 7 3 0 6] 7\n",
      "8.689083209217966 [8 9 1 0 8] 10\n",
      "10.961641158659212 [13 11  3  0  8] 11\n",
      "7.482154127233171 [ 7  8  2  0 12] 8\n",
      "10.662964487885725 [11 11  2  0  2] 11\n",
      "12.15335798516698 [12 12  2  0 12] 11\n",
      "9.453404031517008 [ 9 10  2  0  4] 10\n",
      "12.046507302145068 [14 12  2  1  8] 12\n",
      "-0.9959593508135194 [7 0 3 0 0] 0\n",
      "14.42065318584038 [15 14  2  0  8] 14\n",
      "15.334168345819537 [16 15  2  0  2] 15\n",
      "11.993926145364432 [10 12  2  0 16] 11\n",
      "12.745448577946105 [14 12  2  0 20] 13\n",
      "15.779407979889209 [17 15  1  0  4] 16\n",
      "12.225467777329742 [12 12  2  0 14] 12\n",
      "8.195204434034343 [ 9  9  2  2 11] 9\n",
      "9.30157831945297 [ 8 10  2  0  4] 10\n",
      "8.580918520973823 [8 9 1 0 5] 9\n",
      "16.119331808722933 [15 16  3  0  7] 15\n",
      "7.663742612862306 [ 9  8  2  1 16] 7\n",
      "11.571504894510294 [12 12  3  0  2] 11\n",
      "11.92942248094018 [11 12  2  0 10] 13\n",
      "5.314761855292664 [7 6 1 0 0] 0\n",
      "10.13537755953085 [ 8 11  2  0  0] 11\n",
      "3.3860697503518296 [6 5 1 3 0] 0\n",
      "14.796343915342225 [11 15  1  0  2] 15\n",
      "11.023513448699537 [11 11  2  0 12] 11\n",
      "12.760590346634137 [10 13  1  0  4] 14\n",
      "13.52256442602305 [15 14  3  2  4] 15\n",
      "13.146589065047412 [14 13  2  0  4] 13\n",
      "8.339424018359868 [ 9  9  2  2 15] 9\n",
      "12.770827848756575 [12 13  2  0  2] 13\n",
      "-0.7693958361422588 [12  0  3  2  0] 0\n",
      "9.01840189956977 [10 10  4  0  0] 10\n",
      "18.937399957326228 [18 18  1  0  6] 18\n",
      "-0.7746552209706438 [7 0 2 0 0] 0\n",
      "8.323559495049565 [8 9 2 0 4] 10\n"
     ]
    }
   ],
   "source": [
    "perdiction = model.predict(x_test)\n",
    "# i am going to print all the perdiction and show you what the\n",
    "#input data was for the perdiction \n",
    "for x in range(len(perdiction)):\n",
    "    print(perdiction[x] , x_test[x] , y_test[x])\n",
    "\n",
    "\n",
    "\n"
   ]
  },
  {
   "cell_type": "code",
   "execution_count": null,
   "id": "8c00dcdd-1181-4cd1-a6cd-6c6cbb1e018d",
   "metadata": {},
   "outputs": [],
   "source": [
    "#  g1 g2 2 hrs study and thee g3 is 10 we got perdiction value as 8...."
   ]
  },
  {
   "cell_type": "code",
   "execution_count": 32,
   "id": "2b082da0-86a8-4d13-a412-10485cb814d3",
   "metadata": {},
   "outputs": [],
   "source": [
    "# save the model so we dont have to save again and agin \n",
    "\n",
    "\"\"\"if acc>best:\n",
    "    best = acc\n",
    "    with open(\"studentmodel.pickle\", \"wb\")as f:\n",
    "        pickle.dump(model , f)\n",
    "\n",
    "pickle_in = open(\"studentmodel.pickle\" , \"rb\")\n",
    "model = pickle.load(pickle_in)\"\"\""
   ]
  },
  {
   "cell_type": "code",
   "execution_count": 36,
   "id": "099f8c34-f0e7-4a2f-9d09-10423de16eaa",
   "metadata": {},
   "outputs": [
    {
     "data": {
      "image/png": "[encoded data removed]",
      "text/plain": [
       "<Figure size 640x480 with 1 Axes>"
      ]
     },
     "metadata": {},
     "output_type": "display_data"
    }
   ],
   "source": [
    "p = \"G1\"\n",
    "style.use('ggplot')\n",
    "plt.scatter(data[p] , data[\"G3\"])\n",
    "plt.xlabel(p)\n",
    "plt.ylabel(\"final label \")\n",
    "plt.show()"
   ]
  },
  {
   "cell_type": "code",
   "execution_count": 37,
   "id": "3bc840fb-7ffe-48e7-88f7-cffbcdac8ae5",
   "metadata": {},
   "outputs": [
    {
     "data": {
      "image/png": "[encoded data removed]",
      "text/plain": [
       "<Figure size 640x480 with 1 Axes>"
      ]
     },
     "metadata": {},
     "output_type": "display_data"
    }
   ],
   "source": [
    "p = \"studytime\"\n",
    "style.use('ggplot')\n",
    "plt.scatter(data[p] , data[\"G3\"])\n",
    "plt.xlabel(p)\n",
    "plt.ylabel(\"final label \")\n",
    "plt.show()"
   ]
  },
  {
   "cell_type": "code",
   "execution_count": null,
   "id": "5e407292-7ea8-4d3b-b889-7e77807cd0fa",
   "metadata": {},
   "outputs": [],
   "source": []
  }
 ],
 "metadata": {
  "kernelspec": {
   "display_name": "Python 3 (ipykernel)",
   "language": "python",
   "name": "python3"
  },
  "language_info": {
   "codemirror_mode": {
    "name": "ipython",
    "version": 3
   },
   "file_extension": ".py",
   "mimetype": "text/x-python",
   "name": "python",
   "nbconvert_exporter": "python",
   "pygments_lexer": "ipython3",
   "version": "3.12.0"
  }
 },
 "nbformat": 4,
 "nbformat_minor": 5
}
