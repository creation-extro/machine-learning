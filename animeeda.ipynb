{
 "cells": [
  {
   "cell_type": "markdown",
   "id": "9892b5ad-fb55-4736-a2fc-3c28cba358d6",
   "metadata": {},
   "source": [
    "# exploring the data cleaning the anime data and finding out the genres"
   ]
  },
  {
   "cell_type": "code",
   "execution_count": 2,
   "id": "158ab1c2-5f54-4a0b-846b-87fcefaca63e",
   "metadata": {},
   "outputs": [],
   "source": [
    "import pandas as pd \n",
    "import numpy as np \n",
    "import seaborn as sns\n",
    "import matplotlib.pyplot as plt\n",
    "%matplotlib inline "
   ]
  },
  {
   "cell_type": "code",
   "execution_count": 3,
   "id": "19d3c6d7-7b02-4254-9233-4540282bbc52",
   "metadata": {},
   "outputs": [],
   "source": [
    "data = pd.read_csv(\"MALratings.csv\")"
   ]
  },
  {
   "cell_type": "code",
   "execution_count": 6,
   "id": "4e51a950-6099-4179-8808-40a04145cdd9",
   "metadata": {},
   "outputs": [
    {
     "data": {
      "text/html": [
       "<div>\n",
       "<style scoped>\n",
       "    .dataframe tbody tr th:only-of-type {\n",
       "        vertical-align: middle;\n",
       "    }\n",
       "\n",
       "    .dataframe tbody tr th {\n",
       "        vertical-align: top;\n",
       "    }\n",
       "\n",
       "    .dataframe thead th {\n",
       "        text-align: right;\n",
       "    }\n",
       "</style>\n",
       "<table border=\"1\" class=\"dataframe\">\n",
       "  <thead>\n",
       "    <tr style=\"text-align: right;\">\n",
       "      <th></th>\n",
       "      <th>Title</th>\n",
       "      <th>Genres</th>\n",
       "      <th>Rank</th>\n",
       "      <th>Popularity</th>\n",
       "      <th>Score</th>\n",
       "      <th>Episodes</th>\n",
       "      <th>Episode length</th>\n",
       "      <th>Release Date</th>\n",
       "    </tr>\n",
       "  </thead>\n",
       "  <tbody>\n",
       "    <tr>\n",
       "      <th>0</th>\n",
       "      <td>Kaguya-sama wa Kokurasetai: Ultra Romantic</td>\n",
       "      <td>Comedy,Suspense</td>\n",
       "      <td>13</td>\n",
       "      <td>404</td>\n",
       "      <td>8.99</td>\n",
       "      <td>12</td>\n",
       "      <td>23 min. per ep.</td>\n",
       "      <td>Spring 2022</td>\n",
       "    </tr>\n",
       "    <tr>\n",
       "      <th>1</th>\n",
       "      <td>3-gatsu no Lion 2nd Season</td>\n",
       "      <td>Drama,Slice of Life</td>\n",
       "      <td>14</td>\n",
       "      <td>533</td>\n",
       "      <td>8.96</td>\n",
       "      <td>22</td>\n",
       "      <td>25 min. per ep.</td>\n",
       "      <td>Fall 2017</td>\n",
       "    </tr>\n",
       "    <tr>\n",
       "      <th>2</th>\n",
       "      <td>Gintama Movie 2: Kanketsu-hen - Yorozuya yo Ei...</td>\n",
       "      <td>Action,Comedy,Sci-Fi</td>\n",
       "      <td>19</td>\n",
       "      <td>939</td>\n",
       "      <td>8.93</td>\n",
       "      <td>1</td>\n",
       "      <td>1 hr. 50 min.</td>\n",
       "      <td>NaN</td>\n",
       "    </tr>\n",
       "    <tr>\n",
       "      <th>3</th>\n",
       "      <td>Gintama.</td>\n",
       "      <td>Action,Comedy,Sci-Fi</td>\n",
       "      <td>12</td>\n",
       "      <td>735</td>\n",
       "      <td>8.99</td>\n",
       "      <td>12</td>\n",
       "      <td>24 min. per ep.</td>\n",
       "      <td>Winter 2017</td>\n",
       "    </tr>\n",
       "    <tr>\n",
       "      <th>4</th>\n",
       "      <td>Koe no Katachi</td>\n",
       "      <td>NaN</td>\n",
       "      <td>15</td>\n",
       "      <td>19</td>\n",
       "      <td>8.96</td>\n",
       "      <td>1</td>\n",
       "      <td>2 hr. 10 min.</td>\n",
       "      <td>NaN</td>\n",
       "    </tr>\n",
       "    <tr>\n",
       "      <th>...</th>\n",
       "      <td>...</td>\n",
       "      <td>...</td>\n",
       "      <td>...</td>\n",
       "      <td>...</td>\n",
       "      <td>...</td>\n",
       "      <td>...</td>\n",
       "      <td>...</td>\n",
       "      <td>...</td>\n",
       "    </tr>\n",
       "    <tr>\n",
       "      <th>20338</th>\n",
       "      <td>Steins;Gate</td>\n",
       "      <td>Drama,Sci-Fi,Suspense</td>\n",
       "      <td>4</td>\n",
       "      <td>13</td>\n",
       "      <td>9.08</td>\n",
       "      <td>24</td>\n",
       "      <td>24 min. per ep.</td>\n",
       "      <td>Spring 2011</td>\n",
       "    </tr>\n",
       "    <tr>\n",
       "      <th>20339</th>\n",
       "      <td>High Score</td>\n",
       "      <td>Comedy,Slice of Life</td>\n",
       "      <td>10527</td>\n",
       "      <td>6095</td>\n",
       "      <td>5.58</td>\n",
       "      <td>8</td>\n",
       "      <td>3 min. per ep.</td>\n",
       "      <td>Fall 2011</td>\n",
       "    </tr>\n",
       "    <tr>\n",
       "      <th>20340</th>\n",
       "      <td>Noraneko</td>\n",
       "      <td>NaN</td>\n",
       "      <td>8706</td>\n",
       "      <td>5064</td>\n",
       "      <td>6.04</td>\n",
       "      <td>1</td>\n",
       "      <td>35 sec.</td>\n",
       "      <td>NaN</td>\n",
       "    </tr>\n",
       "    <tr>\n",
       "      <th>20341</th>\n",
       "      <td>Suki de Suki de, Suki de The Animation</td>\n",
       "      <td>NaN</td>\n",
       "      <td>/A</td>\n",
       "      <td>5329</td>\n",
       "      <td>6.81</td>\n",
       "      <td>2</td>\n",
       "      <td>27 min. per ep.</td>\n",
       "      <td>NaN</td>\n",
       "    </tr>\n",
       "    <tr>\n",
       "      <th>20342</th>\n",
       "      <td>Koihime†Musou OVA Omake</td>\n",
       "      <td>Adventure,Comedy,Fantasy,Ecchi</td>\n",
       "      <td>8328</td>\n",
       "      <td>10052</td>\n",
       "      <td>6.12</td>\n",
       "      <td>1</td>\n",
       "      <td>12 min.</td>\n",
       "      <td>NaN</td>\n",
       "    </tr>\n",
       "  </tbody>\n",
       "</table>\n",
       "<p>20343 rows × 8 columns</p>\n",
       "</div>"
      ],
      "text/plain": [
       "                                                   Title  \\\n",
       "0             Kaguya-sama wa Kokurasetai: Ultra Romantic   \n",
       "1                             3-gatsu no Lion 2nd Season   \n",
       "2      Gintama Movie 2: Kanketsu-hen - Yorozuya yo Ei...   \n",
       "3                                               Gintama.   \n",
       "4                                         Koe no Katachi   \n",
       "...                                                  ...   \n",
       "20338                                        Steins;Gate   \n",
       "20339                                         High Score   \n",
       "20340                                           Noraneko   \n",
       "20341             Suki de Suki de, Suki de The Animation   \n",
       "20342                            Koihime†Musou OVA Omake   \n",
       "\n",
       "                               Genres   Rank  Popularity  Score Episodes  \\\n",
       "0                     Comedy,Suspense     13         404   8.99       12   \n",
       "1                 Drama,Slice of Life     14         533   8.96       22   \n",
       "2                Action,Comedy,Sci-Fi     19         939   8.93        1   \n",
       "3                Action,Comedy,Sci-Fi     12         735   8.99       12   \n",
       "4                                 NaN     15          19   8.96        1   \n",
       "...                               ...    ...         ...    ...      ...   \n",
       "20338           Drama,Sci-Fi,Suspense      4          13   9.08       24   \n",
       "20339            Comedy,Slice of Life  10527        6095   5.58        8   \n",
       "20340                             NaN   8706        5064   6.04        1   \n",
       "20341                             NaN     /A        5329   6.81        2   \n",
       "20342  Adventure,Comedy,Fantasy,Ecchi   8328       10052   6.12        1   \n",
       "\n",
       "        Episode length Release Date  \n",
       "0      23 min. per ep.  Spring 2022  \n",
       "1      25 min. per ep.    Fall 2017  \n",
       "2        1 hr. 50 min.          NaN  \n",
       "3      24 min. per ep.  Winter 2017  \n",
       "4        2 hr. 10 min.          NaN  \n",
       "...                ...          ...  \n",
       "20338  24 min. per ep.  Spring 2011  \n",
       "20339   3 min. per ep.    Fall 2011  \n",
       "20340          35 sec.          NaN  \n",
       "20341  27 min. per ep.          NaN  \n",
       "20342          12 min.          NaN  \n",
       "\n",
       "[20343 rows x 8 columns]"
      ]
     },
     "execution_count": 6,
     "metadata": {},
     "output_type": "execute_result"
    }
   ],
   "source": [
    "data"
   ]
  },
  {
   "cell_type": "code",
   "execution_count": 7,
   "id": "461cbb3a-cff8-4acf-9809-5cb6029e7b8f",
   "metadata": {},
   "outputs": [
    {
     "data": {
      "text/html": [
       "<div>\n",
       "<style scoped>\n",
       "    .dataframe tbody tr th:only-of-type {\n",
       "        vertical-align: middle;\n",
       "    }\n",
       "\n",
       "    .dataframe tbody tr th {\n",
       "        vertical-align: top;\n",
       "    }\n",
       "\n",
       "    .dataframe thead th {\n",
       "        text-align: right;\n",
       "    }\n",
       "</style>\n",
       "<table border=\"1\" class=\"dataframe\">\n",
       "  <thead>\n",
       "    <tr style=\"text-align: right;\">\n",
       "      <th></th>\n",
       "      <th>Title</th>\n",
       "      <th>Genres</th>\n",
       "      <th>Rank</th>\n",
       "      <th>Popularity</th>\n",
       "      <th>Score</th>\n",
       "      <th>Episodes</th>\n",
       "      <th>Episode length</th>\n",
       "      <th>Release Date</th>\n",
       "    </tr>\n",
       "  </thead>\n",
       "  <tbody>\n",
       "    <tr>\n",
       "      <th>0</th>\n",
       "      <td>Kaguya-sama wa Kokurasetai: Ultra Romantic</td>\n",
       "      <td>Comedy,Suspense</td>\n",
       "      <td>13</td>\n",
       "      <td>404</td>\n",
       "      <td>8.99</td>\n",
       "      <td>12</td>\n",
       "      <td>23 min. per ep.</td>\n",
       "      <td>Spring 2022</td>\n",
       "    </tr>\n",
       "    <tr>\n",
       "      <th>1</th>\n",
       "      <td>3-gatsu no Lion 2nd Season</td>\n",
       "      <td>Drama,Slice of Life</td>\n",
       "      <td>14</td>\n",
       "      <td>533</td>\n",
       "      <td>8.96</td>\n",
       "      <td>22</td>\n",
       "      <td>25 min. per ep.</td>\n",
       "      <td>Fall 2017</td>\n",
       "    </tr>\n",
       "    <tr>\n",
       "      <th>2</th>\n",
       "      <td>Gintama Movie 2: Kanketsu-hen - Yorozuya yo Ei...</td>\n",
       "      <td>Action,Comedy,Sci-Fi</td>\n",
       "      <td>19</td>\n",
       "      <td>939</td>\n",
       "      <td>8.93</td>\n",
       "      <td>1</td>\n",
       "      <td>1 hr. 50 min.</td>\n",
       "      <td>NaN</td>\n",
       "    </tr>\n",
       "    <tr>\n",
       "      <th>3</th>\n",
       "      <td>Gintama.</td>\n",
       "      <td>Action,Comedy,Sci-Fi</td>\n",
       "      <td>12</td>\n",
       "      <td>735</td>\n",
       "      <td>8.99</td>\n",
       "      <td>12</td>\n",
       "      <td>24 min. per ep.</td>\n",
       "      <td>Winter 2017</td>\n",
       "    </tr>\n",
       "    <tr>\n",
       "      <th>4</th>\n",
       "      <td>Koe no Katachi</td>\n",
       "      <td>NaN</td>\n",
       "      <td>15</td>\n",
       "      <td>19</td>\n",
       "      <td>8.96</td>\n",
       "      <td>1</td>\n",
       "      <td>2 hr. 10 min.</td>\n",
       "      <td>NaN</td>\n",
       "    </tr>\n",
       "  </tbody>\n",
       "</table>\n",
       "</div>"
      ],
      "text/plain": [
       "                                               Title                Genres  \\\n",
       "0         Kaguya-sama wa Kokurasetai: Ultra Romantic       Comedy,Suspense   \n",
       "1                         3-gatsu no Lion 2nd Season   Drama,Slice of Life   \n",
       "2  Gintama Movie 2: Kanketsu-hen - Yorozuya yo Ei...  Action,Comedy,Sci-Fi   \n",
       "3                                           Gintama.  Action,Comedy,Sci-Fi   \n",
       "4                                     Koe no Katachi                   NaN   \n",
       "\n",
       "  Rank  Popularity  Score Episodes   Episode length Release Date  \n",
       "0   13         404   8.99       12  23 min. per ep.  Spring 2022  \n",
       "1   14         533   8.96       22  25 min. per ep.    Fall 2017  \n",
       "2   19         939   8.93        1    1 hr. 50 min.          NaN  \n",
       "3   12         735   8.99       12  24 min. per ep.  Winter 2017  \n",
       "4   15          19   8.96        1    2 hr. 10 min.          NaN  "
      ]
     },
     "execution_count": 7,
     "metadata": {},
     "output_type": "execute_result"
    }
   ],
   "source": [
    "data.head()"
   ]
  },
  {
   "cell_type": "code",
   "execution_count": 8,
   "id": "997e4842-326d-4b6c-a6b8-bdb081234b8c",
   "metadata": {},
   "outputs": [
    {
     "data": {
      "text/html": [
       "<div>\n",
       "<style scoped>\n",
       "    .dataframe tbody tr th:only-of-type {\n",
       "        vertical-align: middle;\n",
       "    }\n",
       "\n",
       "    .dataframe tbody tr th {\n",
       "        vertical-align: top;\n",
       "    }\n",
       "\n",
       "    .dataframe thead th {\n",
       "        text-align: right;\n",
       "    }\n",
       "</style>\n",
       "<table border=\"1\" class=\"dataframe\">\n",
       "  <thead>\n",
       "    <tr style=\"text-align: right;\">\n",
       "      <th></th>\n",
       "      <th>Title</th>\n",
       "      <th>Genres</th>\n",
       "      <th>Rank</th>\n",
       "      <th>Popularity</th>\n",
       "      <th>Score</th>\n",
       "      <th>Episodes</th>\n",
       "      <th>Episode length</th>\n",
       "      <th>Release Date</th>\n",
       "    </tr>\n",
       "  </thead>\n",
       "  <tbody>\n",
       "    <tr>\n",
       "      <th>0</th>\n",
       "      <td>False</td>\n",
       "      <td>False</td>\n",
       "      <td>False</td>\n",
       "      <td>False</td>\n",
       "      <td>False</td>\n",
       "      <td>False</td>\n",
       "      <td>False</td>\n",
       "      <td>False</td>\n",
       "    </tr>\n",
       "    <tr>\n",
       "      <th>1</th>\n",
       "      <td>False</td>\n",
       "      <td>False</td>\n",
       "      <td>False</td>\n",
       "      <td>False</td>\n",
       "      <td>False</td>\n",
       "      <td>False</td>\n",
       "      <td>False</td>\n",
       "      <td>False</td>\n",
       "    </tr>\n",
       "    <tr>\n",
       "      <th>2</th>\n",
       "      <td>False</td>\n",
       "      <td>False</td>\n",
       "      <td>False</td>\n",
       "      <td>False</td>\n",
       "      <td>False</td>\n",
       "      <td>False</td>\n",
       "      <td>False</td>\n",
       "      <td>True</td>\n",
       "    </tr>\n",
       "    <tr>\n",
       "      <th>3</th>\n",
       "      <td>False</td>\n",
       "      <td>False</td>\n",
       "      <td>False</td>\n",
       "      <td>False</td>\n",
       "      <td>False</td>\n",
       "      <td>False</td>\n",
       "      <td>False</td>\n",
       "      <td>False</td>\n",
       "    </tr>\n",
       "    <tr>\n",
       "      <th>4</th>\n",
       "      <td>False</td>\n",
       "      <td>True</td>\n",
       "      <td>False</td>\n",
       "      <td>False</td>\n",
       "      <td>False</td>\n",
       "      <td>False</td>\n",
       "      <td>False</td>\n",
       "      <td>True</td>\n",
       "    </tr>\n",
       "    <tr>\n",
       "      <th>...</th>\n",
       "      <td>...</td>\n",
       "      <td>...</td>\n",
       "      <td>...</td>\n",
       "      <td>...</td>\n",
       "      <td>...</td>\n",
       "      <td>...</td>\n",
       "      <td>...</td>\n",
       "      <td>...</td>\n",
       "    </tr>\n",
       "    <tr>\n",
       "      <th>20338</th>\n",
       "      <td>False</td>\n",
       "      <td>False</td>\n",
       "      <td>False</td>\n",
       "      <td>False</td>\n",
       "      <td>False</td>\n",
       "      <td>False</td>\n",
       "      <td>False</td>\n",
       "      <td>False</td>\n",
       "    </tr>\n",
       "    <tr>\n",
       "      <th>20339</th>\n",
       "      <td>False</td>\n",
       "      <td>False</td>\n",
       "      <td>False</td>\n",
       "      <td>False</td>\n",
       "      <td>False</td>\n",
       "      <td>False</td>\n",
       "      <td>False</td>\n",
       "      <td>False</td>\n",
       "    </tr>\n",
       "    <tr>\n",
       "      <th>20340</th>\n",
       "      <td>False</td>\n",
       "      <td>True</td>\n",
       "      <td>False</td>\n",
       "      <td>False</td>\n",
       "      <td>False</td>\n",
       "      <td>False</td>\n",
       "      <td>False</td>\n",
       "      <td>True</td>\n",
       "    </tr>\n",
       "    <tr>\n",
       "      <th>20341</th>\n",
       "      <td>False</td>\n",
       "      <td>True</td>\n",
       "      <td>False</td>\n",
       "      <td>False</td>\n",
       "      <td>False</td>\n",
       "      <td>False</td>\n",
       "      <td>False</td>\n",
       "      <td>True</td>\n",
       "    </tr>\n",
       "    <tr>\n",
       "      <th>20342</th>\n",
       "      <td>False</td>\n",
       "      <td>False</td>\n",
       "      <td>False</td>\n",
       "      <td>False</td>\n",
       "      <td>False</td>\n",
       "      <td>False</td>\n",
       "      <td>False</td>\n",
       "      <td>True</td>\n",
       "    </tr>\n",
       "  </tbody>\n",
       "</table>\n",
       "<p>20343 rows × 8 columns</p>\n",
       "</div>"
      ],
      "text/plain": [
       "       Title  Genres   Rank  Popularity  Score  Episodes  Episode length  \\\n",
       "0      False   False  False       False  False     False           False   \n",
       "1      False   False  False       False  False     False           False   \n",
       "2      False   False  False       False  False     False           False   \n",
       "3      False   False  False       False  False     False           False   \n",
       "4      False    True  False       False  False     False           False   \n",
       "...      ...     ...    ...         ...    ...       ...             ...   \n",
       "20338  False   False  False       False  False     False           False   \n",
       "20339  False   False  False       False  False     False           False   \n",
       "20340  False    True  False       False  False     False           False   \n",
       "20341  False    True  False       False  False     False           False   \n",
       "20342  False   False  False       False  False     False           False   \n",
       "\n",
       "       Release Date  \n",
       "0             False  \n",
       "1             False  \n",
       "2              True  \n",
       "3             False  \n",
       "4              True  \n",
       "...             ...  \n",
       "20338         False  \n",
       "20339         False  \n",
       "20340          True  \n",
       "20341          True  \n",
       "20342          True  \n",
       "\n",
       "[20343 rows x 8 columns]"
      ]
     },
     "execution_count": 8,
     "metadata": {},
     "output_type": "execute_result"
    }
   ],
   "source": [
    "data.isnull()"
   ]
  },
  {
   "cell_type": "code",
   "execution_count": 11,
   "id": "555a7b08-2f5f-461f-9882-47b9306063f7",
   "metadata": {},
   "outputs": [
    {
     "data": {
      "text/plain": [
       "<Axes: >"
      ]
     },
     "execution_count": 11,
     "metadata": {},
     "output_type": "execute_result"
    },
    {
     "data": {
      "image/png": "[encoded data removed]",
      "text/plain": [
       "<Figure size 640x480 with 1 Axes>"
      ]
     },
     "metadata": {},
     "output_type": "display_data"
    }
   ],
   "source": [
    "sns.heatmap(data.isnull() , yticklabels = False , cbar=False ,cmap= 'viridis' )"
   ]
  },
  {
   "cell_type": "code",
   "execution_count": 35,
   "id": "a8de76d3-1b2d-4178-bdc3-94c897997137",
   "metadata": {},
   "outputs": [],
   "source": [
    "#create bins \n",
    "score_bins = [0, 7.0, 8.0, 10.0]\n",
    "score_labels = ['Bad', 'Average', 'Good']"
   ]
  },
  {
   "cell_type": "code",
   "execution_count": 36,
   "id": "a64c3f8f-6746-428b-b21d-cff813f1266d",
   "metadata": {},
   "outputs": [],
   "source": [
    "\n",
    "data['Score_binned'] = pd.cut(data['Score'], bins=score_bins, labels=score_labels, include_lowest=True)"
   ]
  },
  {
   "cell_type": "code",
   "execution_count": 37,
   "id": "5c84d1f0-88fb-4ecc-bfb9-41069ae24e39",
   "metadata": {},
   "outputs": [
    {
     "name": "stdout",
     "output_type": "stream",
     "text": [
      "       Score Score_binned\n",
      "0       8.99         Good\n",
      "1       8.96         Good\n",
      "2       8.93         Good\n",
      "3       8.99         Good\n",
      "4       8.96         Good\n",
      "...      ...          ...\n",
      "20338   9.08         Good\n",
      "20339   5.58          Bad\n",
      "20340   6.04          Bad\n",
      "20341   6.81          Bad\n",
      "20342   6.12          Bad\n",
      "\n",
      "[19828 rows x 2 columns]\n"
     ]
    }
   ],
   "source": [
    "\n",
    "print(data[['Score', 'Score_binned']])"
   ]
  },
  {
   "cell_type": "code",
   "execution_count": 38,
   "id": "2d15c4a7-bf94-43a4-8963-29533a1ef6b1",
   "metadata": {},
   "outputs": [
    {
     "name": "stdout",
     "output_type": "stream",
     "text": [
      "Score_binned\n",
      "Bad        9940\n",
      "Average    3440\n",
      "Good        556\n",
      "Name: count, dtype: int64\n"
     ]
    }
   ],
   "source": [
    "print(data['Score_binned'].value_counts())"
   ]
  },
  {
   "cell_type": "code",
   "execution_count": 39,
   "id": "fa7d0d80-1ed3-4ea2-88d6-1afa65e07ea5",
   "metadata": {},
   "outputs": [],
   "source": [
    "score_counts = data['Score_binned'].value_counts()\n"
   ]
  },
  {
   "cell_type": "code",
   "execution_count": 40,
   "id": "55348793-1daf-446f-8925-632e2f54fe5b",
   "metadata": {},
   "outputs": [],
   "source": [
    "labels = score_counts.index\n",
    "counts = score_counts.values"
   ]
  },
  {
   "cell_type": "code",
   "execution_count": 41,
   "id": "dc0a2f0d-8c2c-4080-9345-66eb286e22c3",
   "metadata": {},
   "outputs": [
    {
     "data": {
      "image/png": "[encoded data removed]",
      "text/plain": [
       "<Figure size 640x480 with 1 Axes>"
      ]
     },
     "metadata": {},
     "output_type": "display_data"
    }
   ],
   "source": [
    "plt.bar(labels, counts, color=['red', 'yellow', 'green'])  # Adjust colors as necessary\n",
    "plt.xlabel('Score Categories')\n",
    "plt.ylabel('Number of Animes')\n",
    "plt.title('Distribution of Anime Scores')\n",
    "plt.show()"
   ]
  },
  {
   "cell_type": "code",
   "execution_count": 42,
   "id": "1a8f9214-b80f-4985-816c-8a6ecbfbb0dc",
   "metadata": {},
   "outputs": [
    {
     "data": {
      "text/plain": [
       "array([1.00000000e+00, 6.78366667e+03, 1.35663333e+04, 2.03490000e+04])"
      ]
     },
     "execution_count": 42,
     "metadata": {},
     "output_type": "execute_result"
    }
   ],
   "source": [
    "bins = np.linspace(min(data['Popularity']), max(data['Popularity']),4)\n",
    "bins"
   ]
  },
  {
   "cell_type": "code",
   "execution_count": 43,
   "id": "57a1a67a-ca9e-4815-b3ce-fe5defc1dc68",
   "metadata": {},
   "outputs": [],
   "source": [
    "\n",
    "group_names = ['Low', 'Medium', 'High']"
   ]
  },
  {
   "cell_type": "code",
   "execution_count": 44,
   "id": "56353a4d-f37e-40d0-a1e9-d2042c4f624b",
   "metadata": {},
   "outputs": [],
   "source": [
    "data['Popularity-binned']= pd.cut(data['Popularity'],bins,labels=group_names , include_lowest=True)"
   ]
  },
  {
   "cell_type": "code",
   "execution_count": 45,
   "id": "85ab3a10-fcd1-4906-ad39-6b95ebd2ae1d",
   "metadata": {},
   "outputs": [
    {
     "data": {
      "text/html": [
       "<div>\n",
       "<style scoped>\n",
       "    .dataframe tbody tr th:only-of-type {\n",
       "        vertical-align: middle;\n",
       "    }\n",
       "\n",
       "    .dataframe tbody tr th {\n",
       "        vertical-align: top;\n",
       "    }\n",
       "\n",
       "    .dataframe thead th {\n",
       "        text-align: right;\n",
       "    }\n",
       "</style>\n",
       "<table border=\"1\" class=\"dataframe\">\n",
       "  <thead>\n",
       "    <tr style=\"text-align: right;\">\n",
       "      <th></th>\n",
       "      <th>Popularity</th>\n",
       "      <th>Popularity-binned</th>\n",
       "    </tr>\n",
       "  </thead>\n",
       "  <tbody>\n",
       "    <tr>\n",
       "      <th>0</th>\n",
       "      <td>404</td>\n",
       "      <td>Low</td>\n",
       "    </tr>\n",
       "    <tr>\n",
       "      <th>1</th>\n",
       "      <td>533</td>\n",
       "      <td>Low</td>\n",
       "    </tr>\n",
       "    <tr>\n",
       "      <th>2</th>\n",
       "      <td>939</td>\n",
       "      <td>Low</td>\n",
       "    </tr>\n",
       "    <tr>\n",
       "      <th>3</th>\n",
       "      <td>735</td>\n",
       "      <td>Low</td>\n",
       "    </tr>\n",
       "    <tr>\n",
       "      <th>4</th>\n",
       "      <td>19</td>\n",
       "      <td>Low</td>\n",
       "    </tr>\n",
       "    <tr>\n",
       "      <th>5</th>\n",
       "      <td>2505</td>\n",
       "      <td>Low</td>\n",
       "    </tr>\n",
       "    <tr>\n",
       "      <th>6</th>\n",
       "      <td>17</td>\n",
       "      <td>Low</td>\n",
       "    </tr>\n",
       "    <tr>\n",
       "      <th>7</th>\n",
       "      <td>127</td>\n",
       "      <td>Low</td>\n",
       "    </tr>\n",
       "    <tr>\n",
       "      <th>8</th>\n",
       "      <td>700</td>\n",
       "      <td>Low</td>\n",
       "    </tr>\n",
       "    <tr>\n",
       "      <th>9</th>\n",
       "      <td>763</td>\n",
       "      <td>Low</td>\n",
       "    </tr>\n",
       "    <tr>\n",
       "      <th>10</th>\n",
       "      <td>102</td>\n",
       "      <td>Low</td>\n",
       "    </tr>\n",
       "    <tr>\n",
       "      <th>11</th>\n",
       "      <td>376</td>\n",
       "      <td>Low</td>\n",
       "    </tr>\n",
       "    <tr>\n",
       "      <th>12</th>\n",
       "      <td>724</td>\n",
       "      <td>Low</td>\n",
       "    </tr>\n",
       "    <tr>\n",
       "      <th>13</th>\n",
       "      <td>422</td>\n",
       "      <td>Low</td>\n",
       "    </tr>\n",
       "    <tr>\n",
       "      <th>14</th>\n",
       "      <td>647</td>\n",
       "      <td>Low</td>\n",
       "    </tr>\n",
       "    <tr>\n",
       "      <th>15</th>\n",
       "      <td>827</td>\n",
       "      <td>Low</td>\n",
       "    </tr>\n",
       "    <tr>\n",
       "      <th>16</th>\n",
       "      <td>244</td>\n",
       "      <td>Low</td>\n",
       "    </tr>\n",
       "    <tr>\n",
       "      <th>17</th>\n",
       "      <td>896</td>\n",
       "      <td>Low</td>\n",
       "    </tr>\n",
       "    <tr>\n",
       "      <th>18</th>\n",
       "      <td>105</td>\n",
       "      <td>Low</td>\n",
       "    </tr>\n",
       "    <tr>\n",
       "      <th>19</th>\n",
       "      <td>731</td>\n",
       "      <td>Low</td>\n",
       "    </tr>\n",
       "  </tbody>\n",
       "</table>\n",
       "</div>"
      ],
      "text/plain": [
       "    Popularity Popularity-binned\n",
       "0          404               Low\n",
       "1          533               Low\n",
       "2          939               Low\n",
       "3          735               Low\n",
       "4           19               Low\n",
       "5         2505               Low\n",
       "6           17               Low\n",
       "7          127               Low\n",
       "8          700               Low\n",
       "9          763               Low\n",
       "10         102               Low\n",
       "11         376               Low\n",
       "12         724               Low\n",
       "13         422               Low\n",
       "14         647               Low\n",
       "15         827               Low\n",
       "16         244               Low\n",
       "17         896               Low\n",
       "18         105               Low\n",
       "19         731               Low"
      ]
     },
     "execution_count": 45,
     "metadata": {},
     "output_type": "execute_result"
    }
   ],
   "source": [
    "data[['Popularity','Popularity-binned']].head(20)"
   ]
  },
  {
   "cell_type": "code",
   "execution_count": 46,
   "id": "09db1de4-a83f-47de-978a-4a13009f47e5",
   "metadata": {},
   "outputs": [
    {
     "data": {
      "text/plain": [
       "Popularity-binned\n",
       "Low       6674\n",
       "Medium    6619\n",
       "High      6535\n",
       "Name: count, dtype: int64"
      ]
     },
     "execution_count": 46,
     "metadata": {},
     "output_type": "execute_result"
    }
   ],
   "source": [
    "\n",
    "\n",
    "\n",
    "data['Popularity-binned'].value_counts()"
   ]
  },
  {
   "cell_type": "code",
   "execution_count": 47,
   "id": "2f5066ff-5235-48b4-b761-756b6a6b92f8",
   "metadata": {},
   "outputs": [
    {
     "data": {
      "text/plain": [
       "<BarContainer object of 3 artists>"
      ]
     },
     "execution_count": 47,
     "metadata": {},
     "output_type": "execute_result"
    },
    {
     "data": {
      "image/png": "[encoded data removed]",
      "text/plain": [
       "<Figure size 640x480 with 1 Axes>"
      ]
     },
     "metadata": {},
     "output_type": "display_data"
    }
   ],
   "source": [
    "plt.bar(group_names, data['Popularity-binned'].value_counts())"
   ]
  },
  {
   "cell_type": "code",
   "execution_count": 48,
   "id": "f4a34731-236c-42b9-8fd8-d5b32acf4452",
   "metadata": {},
   "outputs": [
    {
     "name": "stdout",
     "output_type": "stream",
     "text": [
      "count    13936.000000\n",
      "mean         6.450700\n",
      "std          0.906703\n",
      "min          1.840000\n",
      "25%          5.830000\n",
      "50%          6.460000\n",
      "75%          7.110000\n",
      "max          9.140000\n",
      "Name: Score, dtype: float64\n",
      "count    19828.000000\n",
      "mean     10116.118318\n",
      "std       5860.160551\n",
      "min          1.000000\n",
      "25%       5036.000000\n",
      "50%      10108.500000\n",
      "75%      15180.250000\n",
      "max      20349.000000\n",
      "Name: Popularity, dtype: float64\n"
     ]
    }
   ],
   "source": [
    "print(data['Score'].describe())\n",
    "print(data['Popularity'].describe())"
   ]
  },
  {
   "cell_type": "code",
   "execution_count": 49,
   "id": "68ddeb24-1651-4019-97e4-fbcb5dbba1ca",
   "metadata": {},
   "outputs": [],
   "source": [
    "# Convert 'Episodes' to numeric, setting errors='coerce' will convert 'unknown' to NaN\n",
    "data['Episodes'] = pd.to_numeric(data['Episodes'], errors='coerce')"
   ]
  },
  {
   "cell_type": "code",
   "execution_count": 50,
   "id": "8a5c3601-c90b-4ada-976b-0741ae18b443",
   "metadata": {},
   "outputs": [],
   "source": [
    "data.dropna(subset=['Episodes'], inplace=True)"
   ]
  },
  {
   "cell_type": "code",
   "execution_count": 51,
   "id": "4724362b-a6d4-4fe4-925f-b676d72eab50",
   "metadata": {},
   "outputs": [
    {
     "name": "stdout",
     "output_type": "stream",
     "text": [
      "0    12.0\n",
      "1    22.0\n",
      "2     1.0\n",
      "3    12.0\n",
      "4     1.0\n",
      "Name: Episodes, dtype: float64\n"
     ]
    }
   ],
   "source": [
    "# Verify the drop\n",
    "print(data['Episodes'].head())"
   ]
  },
  {
   "cell_type": "code",
   "execution_count": 52,
   "id": "2625528b-2e5a-4fe1-a1f3-0f44fd798b02",
   "metadata": {},
   "outputs": [
    {
     "data": {
      "text/plain": [
       "array([1.00000000e+00, 1.01966667e+03, 2.03833333e+03, 3.05700000e+03])"
      ]
     },
     "execution_count": 52,
     "metadata": {},
     "output_type": "execute_result"
    }
   ],
   "source": [
    "bins = np.linspace(start = min(data['Episodes']),stop = max(data['Episodes']),num=4)\n",
    "bins"
   ]
  },
  {
   "cell_type": "code",
   "execution_count": 53,
   "id": "fd52e971-8664-409e-a6d1-012898b9a4d5",
   "metadata": {},
   "outputs": [
    {
     "name": "stdout",
     "output_type": "stream",
     "text": [
      "<class 'pandas.core.frame.DataFrame'>\n",
      "Index: 19828 entries, 0 to 20342\n",
      "Data columns (total 11 columns):\n",
      " #   Column             Non-Null Count  Dtype   \n",
      "---  ------             --------------  -----   \n",
      " 0   Title              19828 non-null  object  \n",
      " 1   Genres             9731 non-null   object  \n",
      " 2   Rank               19828 non-null  object  \n",
      " 3   Popularity         19828 non-null  int64   \n",
      " 4   Score              13936 non-null  float64 \n",
      " 5   Episodes           19828 non-null  float64 \n",
      " 6   Episode length     19828 non-null  object  \n",
      " 7   Release Date       4956 non-null   object  \n",
      " 8   Episodes_binned    19776 non-null  category\n",
      " 9   Score_binned       13936 non-null  category\n",
      " 10  Popularity-binned  19828 non-null  category\n",
      "dtypes: category(3), float64(2), int64(1), object(5)\n",
      "memory usage: 1.4+ MB\n"
     ]
    }
   ],
   "source": [
    "data.info()"
   ]
  },
  {
   "cell_type": "code",
   "execution_count": 54,
   "id": "8a87d875-79ae-4b2e-a6aa-d5dab6e8f499",
   "metadata": {},
   "outputs": [],
   "source": [
    "# Define custom bins for episodes\n",
    "episode_bins = [0, 12, 24, 50, 100, 300]  # Adjust bins as needed\n",
    "episode_labels = ['0-12', '13-24', '25-50', '51-100', '101-300']"
   ]
  },
  {
   "cell_type": "code",
   "execution_count": 55,
   "id": "13743ee6-d074-4230-bbc3-17df5c1a88ea",
   "metadata": {},
   "outputs": [],
   "source": [
    "# Create a new column 'Episodes_binned'\n",
    "data['Episodes_binned'] = pd.cut(data['Episodes'], bins= episode_bins, labels=episode_labels, include_lowest=True)"
   ]
  },
  {
   "cell_type": "code",
   "execution_count": 56,
   "id": "4f7cc984-944a-4f90-ae87-da8f5638b8af",
   "metadata": {},
   "outputs": [
    {
     "name": "stderr",
     "output_type": "stream",
     "text": [
      "C:\\Users\\Tejaswi\\AppData\\Local\\Temp\\ipykernel_29552\\3382008216.py:2: FutureWarning: The default of observed=False is deprecated and will be changed to True in a future version of pandas. Pass observed=False to retain current behavior or observed=True to adopt the future default and silence this warning.\n",
      "  popularity_by_episodes = data.groupby('Episodes_binned')['Popularity'].mean()\n"
     ]
    }
   ],
   "source": [
    "# Calculate the average popularity for each episode bin\n",
    "popularity_by_episodes = data.groupby('Episodes_binned')['Popularity'].mean()"
   ]
  },
  {
   "cell_type": "code",
   "execution_count": 57,
   "id": "552a4519-36da-4b83-9f5b-4f749294349d",
   "metadata": {},
   "outputs": [
    {
     "name": "stdout",
     "output_type": "stream",
     "text": [
      "Episodes_binned\n",
      "0-12       10174.771990\n",
      "13-24       7459.538981\n",
      "25-50      10388.046850\n",
      "51-100     12771.322148\n",
      "101-300    11723.465217\n",
      "Name: Popularity, dtype: float64\n"
     ]
    }
   ],
   "source": [
    "print(popularity_by_episodes)"
   ]
  },
  {
   "cell_type": "code",
   "execution_count": 58,
   "id": "ff6076aa-0404-4a9f-8705-995158080834",
   "metadata": {},
   "outputs": [
    {
     "data": {
      "image/png": "[encoded data removed]",
      "text/plain": [
       "<Figure size 640x480 with 1 Axes>"
      ]
     },
     "metadata": {},
     "output_type": "display_data"
    }
   ],
   "source": [
    "# Plotting the average popularity for each episode bin\n",
    "\n",
    "popularity_by_episodes.plot(kind=\"bar\", color='skyblue')\n",
    "plt.xlabel('Number of Episodes')\n",
    "plt.ylabel('Average Popularity')\n",
    "plt.title('Average Popularity by Number of Episodes')\n",
    "plt.show()"
   ]
  },
  {
   "cell_type": "code",
   "execution_count": null,
   "id": "35d3c6dd-8d35-4cb7-b292-c4d621d8ab0a",
   "metadata": {},
   "outputs": [],
   "source": []
  },
  {
   "cell_type": "code",
   "execution_count": null,
   "id": "3a3f810e-0a6a-48d4-a63a-aa29194aa258",
   "metadata": {},
   "outputs": [],
   "source": []
  },
  {
   "cell_type": "code",
   "execution_count": 59,
   "id": "424db430-3678-4e09-9e87-8a39f26b66ce",
   "metadata": {},
   "outputs": [
    {
     "name": "stderr",
     "output_type": "stream",
     "text": [
      "C:\\Users\\Tejaswi\\AppData\\Local\\Temp\\ipykernel_29552\\2320172996.py:2: FutureWarning: The default of observed=False is deprecated and will be changed to True in a future version of pandas. Pass observed=False to retain current behavior or observed=True to adopt the future default and silence this warning.\n",
      "  popularity_by_episodes_and_score = data.groupby(['Episodes_binned', 'Score_binned'])['Popularity'].mean().unstack()\n"
     ]
    }
   ],
   "source": [
    "# Group by 'Episodes_binned' and 'Score_binned' and calculate mean popularity\n",
    "popularity_by_episodes_and_score = data.groupby(['Episodes_binned', 'Score_binned'])['Popularity'].mean().unstack()"
   ]
  },
  {
   "cell_type": "code",
   "execution_count": 60,
   "id": "0d2a71e4-fa47-4691-88c7-964516f30e53",
   "metadata": {},
   "outputs": [
    {
     "name": "stdout",
     "output_type": "stream",
     "text": [
      "Score_binned              Bad      Average         Good\n",
      "Episodes_binned                                        \n",
      "0-12              8991.036153  3695.919011  1434.529595\n",
      "13-24             6634.689498  2537.346154  1205.297297\n",
      "25-50             8958.483923  4247.819820   962.714286\n",
      "51-100            8973.843750  5040.138462  1467.380952\n",
      "101-300          10041.581818  3323.851064   473.454545\n"
     ]
    }
   ],
   "source": [
    "print(popularity_by_episodes_and_score)"
   ]
  },
  {
   "cell_type": "code",
   "execution_count": 64,
   "id": "295671c8-4ab1-4321-9f9a-32dfee0c1b13",
   "metadata": {},
   "outputs": [
    {
     "data": {
      "image/png": "[encoded data removed]",
      "text/plain": [
       "<Figure size 640x480 with 2 Axes>"
      ]
     },
     "metadata": {},
     "output_type": "display_data"
    }
   ],
   "source": [
    "\n",
    "sns.heatmap(popularity_by_episodes_and_score, annot=True, cmap=\"YlGnBu\")\n",
    "plt.xlabel('Score Range')\n",
    "plt.ylabel('Number of Episodes')\n",
    "plt.title('Average Popularity by Number of Episodes and Score Range')\n",
    "plt.show()"
   ]
  },
  {
   "cell_type": "markdown",
   "id": "6b1796e2-06fb-4f7c-84cf-271294ba5913",
   "metadata": {},
   "source": [
    "# Implementation\n",
    "## The number of episodes and score range are both crucial factors influencing an anime's popularity.\n",
    "## There might be a preference among viewers for shorter anime or anime with a specific range of episodes.\n",
    "## The combination of high scores and longer episodes does not always correlate with higher popularity."
   ]
  },
  {
   "cell_type": "code",
   "execution_count": 70,
   "id": "5dd6c0da-f7f5-4620-946a-0e3fd33aa29c",
   "metadata": {},
   "outputs": [
    {
     "name": "stdout",
     "output_type": "stream",
     "text": [
      "<class 'pandas.core.frame.DataFrame'>\n",
      "Index: 19828 entries, 0 to 20342\n",
      "Data columns (total 11 columns):\n",
      " #   Column             Non-Null Count  Dtype   \n",
      "---  ------             --------------  -----   \n",
      " 0   Title              19828 non-null  object  \n",
      " 1   Genres             9731 non-null   object  \n",
      " 2   Rank               19828 non-null  object  \n",
      " 3   Popularity         19828 non-null  int64   \n",
      " 4   Score              13936 non-null  float64 \n",
      " 5   Episodes           19828 non-null  float64 \n",
      " 6   Episode length     19828 non-null  object  \n",
      " 7   Release Date       4956 non-null   object  \n",
      " 8   Episodes_binned    19776 non-null  category\n",
      " 9   Score_binned       13936 non-null  category\n",
      " 10  Popularity-binned  19828 non-null  category\n",
      "dtypes: category(3), float64(2), int64(1), object(5)\n",
      "memory usage: 1.4+ MB\n"
     ]
    }
   ],
   "source": [
    "data.info()\n",
    "                   "
   ]
  },
  {
   "cell_type": "code",
   "execution_count": 72,
   "id": "0fa504b0-84f8-439d-8d43-ebdae78a0a06",
   "metadata": {},
   "outputs": [],
   "source": [
    "#convert rank to numbers \n",
    "data['Rank'] = pd.to_numeric(data['Rank'] , errors='coerce')"
   ]
  },
  {
   "cell_type": "code",
   "execution_count": 73,
   "id": "5d8a8640-1676-4085-905b-9e5dd6d01434",
   "metadata": {},
   "outputs": [],
   "source": [
    "#drop all the nan valus or row \n",
    "data.dropna(subset=['Rank'] , inplace=True)"
   ]
  },
  {
   "cell_type": "code",
   "execution_count": 75,
   "id": "c75e29e8-00eb-491c-8b8b-d1b8d11953e5",
   "metadata": {},
   "outputs": [
    {
     "name": "stdout",
     "output_type": "stream",
     "text": [
      "<class 'pandas.core.frame.DataFrame'>\n",
      "Index: 18278 entries, 0 to 20342\n",
      "Data columns (total 11 columns):\n",
      " #   Column             Non-Null Count  Dtype   \n",
      "---  ------             --------------  -----   \n",
      " 0   Title              18278 non-null  object  \n",
      " 1   Genres             9322 non-null   object  \n",
      " 2   Rank               18278 non-null  float64 \n",
      " 3   Popularity         18278 non-null  int64   \n",
      " 4   Score              12516 non-null  float64 \n",
      " 5   Episodes           18278 non-null  float64 \n",
      " 6   Episode length     18278 non-null  object  \n",
      " 7   Release Date       4951 non-null   object  \n",
      " 8   Episodes_binned    18226 non-null  category\n",
      " 9   Score_binned       12516 non-null  category\n",
      " 10  Popularity-binned  18278 non-null  category\n",
      "dtypes: category(3), float64(3), int64(1), object(4)\n",
      "memory usage: 1.3+ MB\n"
     ]
    }
   ],
   "source": [
    "data.info()"
   ]
  },
  {
   "cell_type": "code",
   "execution_count": 93,
   "id": "8b868756-70d8-4974-b761-d11dba334422",
   "metadata": {},
   "outputs": [],
   "source": [
    "rank_bins = [0, 100, 500, 1000, max(data['Rank'])]\n",
    "rank_labels= ['Top' , 'High' , 'medium', 'low']"
   ]
  },
  {
   "cell_type": "code",
   "execution_count": 94,
   "id": "a0bc28f0-3e93-41df-998e-1f7321903cbf",
   "metadata": {},
   "outputs": [],
   "source": [
    "data[\"Rank-binned\"] = pd.cut(data['Rank'] , bins=rank_bins , labels=rank_labels , include_lowest=True)"
   ]
  },
  {
   "cell_type": "code",
   "execution_count": 95,
   "id": "530190a5-de86-401e-be9d-51bb4d4d678b",
   "metadata": {},
   "outputs": [
    {
     "name": "stdout",
     "output_type": "stream",
     "text": [
      "0        Top\n",
      "1        Top\n",
      "2        Top\n",
      "3        Top\n",
      "4        Top\n",
      "        ... \n",
      "20337    low\n",
      "20338    Top\n",
      "20339    low\n",
      "20340    low\n",
      "20342    low\n",
      "Name: Rank-binned, Length: 18278, dtype: category\n",
      "Categories (4, object): ['Top' < 'High' < 'medium' < 'low']\n"
     ]
    }
   ],
   "source": [
    "print(data[\"Rank-binned\"])"
   ]
  },
  {
   "cell_type": "code",
   "execution_count": 96,
   "id": "79978582-5430-49b6-8389-7c4540790c01",
   "metadata": {},
   "outputs": [
    {
     "data": {
      "text/plain": [
       "Rank-binned\n",
       "low       17284\n",
       "medium      498\n",
       "High        397\n",
       "Top          99\n",
       "Name: count, dtype: int64"
      ]
     },
     "execution_count": 96,
     "metadata": {},
     "output_type": "execute_result"
    }
   ],
   "source": [
    "data['Rank-binned'].value_counts()"
   ]
  },
  {
   "cell_type": "code",
   "execution_count": 97,
   "id": "dc1324a8-925b-4448-b2c5-8328356c36ca",
   "metadata": {},
   "outputs": [
    {
     "name": "stderr",
     "output_type": "stream",
     "text": [
      "C:\\Users\\Tejaswi\\AppData\\Local\\Temp\\ipykernel_29552\\402024622.py:1: FutureWarning: The default of observed=False is deprecated and will be changed to True in a future version of pandas. Pass observed=False to retain current behavior or observed=True to adopt the future default and silence this warning.\n",
      "  population_of_rank = data.groupby('Rank-binned') ['Popularity'].mean()\n"
     ]
    }
   ],
   "source": [
    "population_of_rank = data.groupby('Rank-binned') ['Popularity'].mean()"
   ]
  },
  {
   "cell_type": "code",
   "execution_count": 98,
   "id": "b13b0b82-b987-486c-9882-b57b4f7f3356",
   "metadata": {},
   "outputs": [
    {
     "name": "stdout",
     "output_type": "stream",
     "text": [
      "Rank-binned\n",
      "Top         617.656566\n",
      "High       1410.916877\n",
      "medium     2169.688755\n",
      "low       10792.921025\n",
      "Name: Popularity, dtype: float64\n"
     ]
    }
   ],
   "source": [
    "print(population_of_rank)"
   ]
  },
  {
   "cell_type": "code",
   "execution_count": null,
   "id": "04b8d63d-ee8d-4bbf-ae27-f144bcac4bc2",
   "metadata": {},
   "outputs": [],
   "source": []
  },
  {
   "cell_type": "code",
   "execution_count": 106,
   "id": "0851e0d1-edd4-41dc-bec8-10208f44f492",
   "metadata": {},
   "outputs": [
    {
     "data": {
      "image/png": "[encoded data removed]",
      "text/plain": [
       "<Figure size 640x480 with 1 Axes>"
      ]
     },
     "metadata": {},
     "output_type": "display_data"
    }
   ],
   "source": [
    "plt.plot(population_of_rank  , color='#17DEEE')\n",
    "plt.xlabel(\"Rank\")\n",
    "plt.ylabel(\"Population\")\n",
    "plt.grid()\n",
    "plt.show()"
   ]
  },
  {
   "cell_type": "code",
   "execution_count": 107,
   "id": "f01164bb-00bc-4fd9-8350-2ceed82b6724",
   "metadata": {},
   "outputs": [
    {
     "name": "stderr",
     "output_type": "stream",
     "text": [
      "C:\\Users\\Tejaswi\\AppData\\Local\\Temp\\ipykernel_29552\\2326496803.py:1: FutureWarning: The default of observed=False is deprecated and will be changed to True in a future version of pandas. Pass observed=False to retain current behavior or observed=True to adopt the future default and silence this warning.\n",
      "  popularity_of_rank_episodes = data.groupby(['Rank-binned' , 'Episodes_binned'])['Popularity'].mean().unstack()\n"
     ]
    }
   ],
   "source": [
    "popularity_of_rank_episodes = data.groupby(['Rank-binned' , 'Episodes_binned'])['Popularity'].mean().unstack()"
   ]
  },
  {
   "cell_type": "code",
   "execution_count": 108,
   "id": "0e5efac2-7abd-45b4-8e42-e1d7d8357efe",
   "metadata": {},
   "outputs": [
    {
     "name": "stdout",
     "output_type": "stream",
     "text": [
      "Episodes_binned          0-12        13-24         25-50        51-100  \\\n",
      "Rank-binned                                                              \n",
      "Top                704.211538   448.952381    722.777778    250.800000   \n",
      "High              1542.930131  1372.848101    994.584615   1847.562500   \n",
      "medium            2288.952830  1820.627907   2090.553846   2505.153846   \n",
      "low              10821.736604  8207.641614  11168.150059  13202.534884   \n",
      "\n",
      "Episodes_binned       101-300  \n",
      "Rank-binned                    \n",
      "Top                279.000000  \n",
      "High               589.000000  \n",
      "medium            1565.076923  \n",
      "low              12903.821256  \n"
     ]
    }
   ],
   "source": [
    "print(popularity_of_rank_episodes)"
   ]
  },
  {
   "cell_type": "code",
   "execution_count": 114,
   "id": "a49df80b-b6ff-4d03-8579-5af5473c2348",
   "metadata": {},
   "outputs": [
    {
     "data": {
      "image/png": "[encoded data removed]",
      "text/plain": [
       "<Figure size 640x480 with 2 Axes>"
      ]
     },
     "metadata": {},
     "output_type": "display_data"
    }
   ],
   "source": [
    "sns.heatmap(popularity_of_rank_episodes , annot=True , cmap='Pastel1' , cbar=True)\n",
    "plt.xlabel('Episodes')\n",
    "plt.ylabel('Rank')\n",
    "plt.title('Average Popularity by Number of Episodes and Ranks')\n",
    "plt.show()"
   ]
  },
  {
   "cell_type": "markdown",
   "id": "8b26371b-40f4-4719-a34d-7451dd0ff96f",
   "metadata": {},
   "source": [
    "## Conclusion:\n",
    "Anime with fewer episodes tend to have higher popularity, particularly in the lower rank category.\n",
    "The medium rank category shows a significant drop in popularity as the number of episodes increases.\n",
    "The top rank category has a more consistent but lower popularity across different episode ranges.\n",
    "This heatmap helps identify trends in popularity based on the number of episodes and ranking, providing valuable insights for further analysis or decision-making regarding anime content"
   ]
  },
  {
   "cell_type": "code",
   "execution_count": null,
   "id": "55460028-0b33-40be-a858-ab6d8fc78340",
   "metadata": {},
   "outputs": [],
   "source": []
  }
 ],
 "metadata": {
  "kernelspec": {
   "display_name": "Python 3 (ipykernel)",
   "language": "python",
   "name": "python3"
  },
  "language_info": {
   "codemirror_mode": {
    "name": "ipython",
    "version": 3
   },
   "file_extension": ".py",
   "mimetype": "text/x-python",
   "name": "python",
   "nbconvert_exporter": "python",
   "pygments_lexer": "ipython3",
   "version": "3.12.0"
  }
 },
 "nbformat": 4,
 "nbformat_minor": 5
}
